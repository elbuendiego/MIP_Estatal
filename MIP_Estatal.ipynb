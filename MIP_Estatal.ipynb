{
  "nbformat": 4,
  "nbformat_minor": 0,
  "metadata": {
    "colab": {
      "name": "MIP_Estatal.ipynb",
      "provenance": [],
      "authorship_tag": "ABX9TyO1K3eEpUam+gqoaYM3b8up",
      "include_colab_link": true
    },
    "kernelspec": {
      "name": "python3",
      "display_name": "Python 3"
    },
    "language_info": {
      "name": "python"
    }
  },
  "cells": [
    {
      "cell_type": "markdown",
      "metadata": {
        "id": "view-in-github",
        "colab_type": "text"
      },
      "source": [
        "<a href=\"https://colab.research.google.com/github/elbuendiego/MIP_Estatal/blob/main/MIP_Estatal.ipynb\" target=\"_parent\"><img src=\"https://colab.research.google.com/assets/colab-badge.svg\" alt=\"Open In Colab\"/></a>"
      ]
    },
    {
      "cell_type": "markdown",
      "source": [
        "Code for the \"Strategic actions to promote a sustainable recovery Post-COVID\" project within the ExpertODS initiative of the Sustainable Development Solutions Network (SDSN - Mexico).  \n",
        "\n",
        "Author: Diego Alfaro"
      ],
      "metadata": {
        "id": "BGRgyo0FZUfM"
      }
    },
    {
      "cell_type": "markdown",
      "source": [
        "Instala librerias no incluidas en sesion Colab"
      ],
      "metadata": {
        "id": "b3BBHCIIP-MN"
      }
    },
    {
      "cell_type": "code",
      "source": [
        "!pip install xlsxwriter"
      ],
      "metadata": {
        "colab": {
          "base_uri": "https://localhost:8080/"
        },
        "id": "HBvawrEFPupZ",
        "outputId": "ce1c9ac0-2b5f-4aa1-8f91-db1ae01d8557"
      },
      "execution_count": 87,
      "outputs": [
        {
          "output_type": "stream",
          "name": "stdout",
          "text": [
            "Collecting xlsxwriter\n",
            "  Downloading XlsxWriter-3.0.2-py3-none-any.whl (149 kB)\n",
            "\u001b[?25l\r\u001b[K     |██▏                             | 10 kB 18.0 MB/s eta 0:00:01\r\u001b[K     |████▍                           | 20 kB 10.0 MB/s eta 0:00:01\r\u001b[K     |██████▋                         | 30 kB 7.6 MB/s eta 0:00:01\r\u001b[K     |████████▊                       | 40 kB 7.4 MB/s eta 0:00:01\r\u001b[K     |███████████                     | 51 kB 4.4 MB/s eta 0:00:01\r\u001b[K     |█████████████▏                  | 61 kB 4.6 MB/s eta 0:00:01\r\u001b[K     |███████████████▎                | 71 kB 4.5 MB/s eta 0:00:01\r\u001b[K     |█████████████████▌              | 81 kB 5.1 MB/s eta 0:00:01\r\u001b[K     |███████████████████▊            | 92 kB 5.4 MB/s eta 0:00:01\r\u001b[K     |█████████████████████▉          | 102 kB 4.3 MB/s eta 0:00:01\r\u001b[K     |████████████████████████        | 112 kB 4.3 MB/s eta 0:00:01\r\u001b[K     |██████████████████████████▎     | 122 kB 4.3 MB/s eta 0:00:01\r\u001b[K     |████████████████████████████▍   | 133 kB 4.3 MB/s eta 0:00:01\r\u001b[K     |██████████████████████████████▋ | 143 kB 4.3 MB/s eta 0:00:01\r\u001b[K     |████████████████████████████████| 149 kB 4.3 MB/s \n",
            "\u001b[?25hInstalling collected packages: xlsxwriter\n",
            "Successfully installed xlsxwriter-3.0.2\n"
          ]
        }
      ]
    },
    {
      "cell_type": "markdown",
      "source": [
        "Importa librerias"
      ],
      "metadata": {
        "id": "ukneMUtyQO-z"
      }
    },
    {
      "cell_type": "code",
      "execution_count": 88,
      "metadata": {
        "id": "-LNoQPllziZz"
      },
      "outputs": [],
      "source": [
        "import pandas as pd\n",
        "import numpy as np\n",
        "import xlsxwriter"
      ]
    },
    {
      "cell_type": "markdown",
      "source": [
        "Funcion auxiliar"
      ],
      "metadata": {
        "id": "B6lBvXpfQKXb"
      }
    },
    {
      "cell_type": "code",
      "source": [
        "def cols_index(df):\n",
        "  '''\n",
        "  Asigna sectores a columnas e indices de df\n",
        "\n",
        "  input:\n",
        "    df: pandas dataframe\n",
        "  output:\n",
        "    df: pandas datframe\n",
        "  '''\n",
        "  df.columns = sectores\n",
        "  df.index = sectores\n",
        "  return df"
      ],
      "metadata": {
        "id": "04FLgsXaOrrq"
      },
      "execution_count": 89,
      "outputs": []
    },
    {
      "cell_type": "markdown",
      "source": [
        "Lectura de archivo con MIPs estatales"
      ],
      "metadata": {
        "id": "j-YfB3q9QTyO"
      }
    },
    {
      "cell_type": "code",
      "source": [
        "xls = pd.ExcelFile('/content/MIP_Estatales_d_pb_ixi_2008.xlsx')"
      ],
      "metadata": {
        "id": "8OyvFvSR0Sfz"
      },
      "execution_count": 28,
      "outputs": []
    },
    {
      "cell_type": "markdown",
      "source": [
        "Analisis de sectores, iterando estado por estado y guardando un archivo xlsx por estado, incluyendo las hojas: 'MIP', 'COEFTEC', 'inv(I-A)', 'resultados'."
      ],
      "metadata": {
        "id": "71al9zPiQfOw"
      }
    },
    {
      "cell_type": "code",
      "source": [
        "for n in range(1,33):\n",
        "    num_estado = f'{n:02}'\n",
        "    df = pd.read_excel(xls, f'E_{num_estado}') \n",
        "    nom_estado = df.iloc[2,13].split()[1:]\n",
        "    nom_estado = '_'.join(nom_estado)\n",
        "    sectores = df.iloc[6,6:25].values\n",
        "    codigo = df.iloc[7,6:25].values\n",
        "\n",
        "    prod_total = df.iloc[46,6:25]\n",
        "    mip = df.iloc[9:28,6:25]\n",
        "    coef_tec = mip / prod_total\n",
        "    leont_mat = np.identity(19) - coef_tec.to_numpy(dtype='float')\n",
        "    leont_mat = np.linalg.inv(leont_mat)\n",
        "\n",
        "    mult_columna = np.sum(leont_mat, axis=0)\n",
        "    ind_columna = mult_columna / np.mean(mult_columna)\n",
        "    mult_fila =  np.sum(leont_mat, axis=1)\n",
        "    ind_fila = mult_fila / np.mean(mult_fila)\n",
        "\n",
        "    tipo_columna = np.where(ind_columna > 1,'Impulsor', '')\n",
        "    tipo_fila = np.where(ind_fila > 1,'Expansor', '')\n",
        "\n",
        "    tipo_sector = np.where((ind_fila>1) & (ind_columna>1),'clave','independiente')\n",
        "    tipo_sector = np.where((ind_fila>1) & (ind_columna<=1),'inducido hacia adelante',tipo_sector)\n",
        "    tipo_sector = np.where((ind_fila<=1) & (ind_columna>1),'expansor hacia atras',tipo_sector)\n",
        "\n",
        "    resultados = pd.DataFrame(data = {'Sector': sectores,\n",
        "                                      'Codigo': codigo,\n",
        "                                      'Multiplicador columna': mult_columna,\n",
        "                                      'indice Uj': ind_columna,\n",
        "                                      'Uj > 1': tipo_columna,\n",
        "                                      'Multiplicador fila': mult_fila,\n",
        "                                      'Ui': ind_fila,\n",
        "                                      'Ui > 1': tipo_fila,\n",
        "                                      'Tipo Sector': tipo_sector},\n",
        "                              index = np.arange(1,20))\n",
        "    mip = cols_index(mip)\n",
        "    coef_tec = cols_index(pd.DataFrame(data=coef_tec))\n",
        "    leont_mat = cols_index(pd.DataFrame(data=leont_mat))\n",
        "\n",
        "    writer = pd.ExcelWriter(f'AnalisisMIP_{nom_estado}.xlsx')\n",
        "    mip.to_excel(writer, sheet_name='MIP')\n",
        "    coef_tec.to_excel(writer, sheet_name='COEFTEC')\n",
        "    leont_mat.to_excel(writer, sheet_name='inv(I-A)')\n",
        "    resultados.to_excel(writer, sheet_name='resultados')\n",
        "    writer.save()"
      ],
      "metadata": {
        "id": "seKcs-dQ0rDr"
      },
      "execution_count": 99,
      "outputs": []
    }
  ]
}